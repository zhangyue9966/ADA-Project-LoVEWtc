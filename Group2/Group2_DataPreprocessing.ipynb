{
 "cells": [
  {
   "cell_type": "markdown",
   "metadata": {},
   "source": [
    "# Group2 Data Preprocessing\n",
    "\n",
    "Source: Basic_EDA_v2"
   ]
  },
  {
   "cell_type": "code",
   "execution_count": 12,
   "metadata": {},
   "outputs": [],
   "source": [
    "import os \n",
    "import pandas as pd\n",
    "import numpy as np\n",
    "import matplotlib.pyplot as plt\n",
    "import zipfile"
   ]
  },
  {
   "cell_type": "markdown",
   "metadata": {},
   "source": [
    "#### Transaction tables"
   ]
  },
  {
   "cell_type": "code",
   "execution_count": 14,
   "metadata": {},
   "outputs": [],
   "source": [
    "zf_test = zipfile.ZipFile('../Data_Transcation_Test/test_transaction.zip') \n",
    "test_transaction = pd.read_csv(zf_test.open('test_transaction.csv'))"
   ]
  },
  {
   "cell_type": "code",
   "execution_count": 15,
   "metadata": {},
   "outputs": [],
   "source": [
    "zf_train = zipfile.ZipFile('../Data_Transcation_Train/train_transaction.zip') \n",
    "train_transaction = pd.read_csv(zf_train.open('train_transaction.csv'))"
   ]
  },
  {
   "cell_type": "markdown",
   "metadata": {},
   "source": [
    "#### Identity tables"
   ]
  },
  {
   "cell_type": "code",
   "execution_count": 2,
   "metadata": {},
   "outputs": [],
   "source": [
    "test_identity=pd.read_csv('../Other_Data/test_identity.csv')\n",
    "train_identity=pd.read_csv('../Other_Data/train_identity.csv')"
   ]
  },
  {
   "cell_type": "markdown",
   "metadata": {},
   "source": [
    "### Dealing with duplications"
   ]
  },
  {
   "cell_type": "code",
   "execution_count": 16,
   "metadata": {},
   "outputs": [
    {
     "name": "stdout",
     "output_type": "stream",
     "text": [
      "shape of train_identity_unique is (144233, 41); shape of train_transaction_unique is (590540, 394)\n"
     ]
    }
   ],
   "source": [
    "# get trainning data with unique rows (keep the last row if there are duplicates):\n",
    "train_identity_unique = train_identity.drop_duplicates()\n",
    "train_transaction_unique = train_transaction.drop_duplicates()\n",
    "train_identity_unique = train_identity_unique.reindex()\n",
    "train_transaction_unique = train_transaction_unique.reindex()\n",
    "print('shape of train_identity_unique is {}; shape of train_transaction_unique is {}'.format(train_identity_unique.shape,train_transaction_unique.shape))"
   ]
  },
  {
   "cell_type": "code",
   "execution_count": 3,
   "metadata": {},
   "outputs": [
    {
     "name": "stdout",
     "output_type": "stream",
     "text": [
      "shape of train_identity_unique is (141907, 41); shape of train_transaction_unique is (506691, 393)\n"
     ]
    }
   ],
   "source": [
    "# Dealing with duplications for test data\n",
    "test_identity_unique = test_identity.drop_duplicates(keep='last')\n",
    "test_transaction_unique = test_transaction.drop_duplicates(keep='last')\n",
    "test_identity_unique = test_identity_unique.reindex()\n",
    "test_transaction_unique = test_transaction_unique.reindex()\n",
    "print('shape of train_identity_unique is {}; shape of train_transaction_unique is {}'.format(test_identity_unique.shape,test_transaction_unique.shape))"
   ]
  },
  {
   "cell_type": "markdown",
   "metadata": {},
   "source": [
    "### Join two datasets"
   ]
  },
  {
   "cell_type": "code",
   "execution_count": 6,
   "metadata": {},
   "outputs": [],
   "source": [
    "train = pd.merge(train_transaction_unique, train_identity_unique, on='TransactionID', how='left')\n",
    "test = pd.merge(test_transaction_unique, test_identity_unique, on='TransactionID', how='left')"
   ]
  },
  {
   "cell_type": "code",
   "execution_count": 7,
   "metadata": {},
   "outputs": [
    {
     "name": "stdout",
     "output_type": "stream",
     "text": [
      "shape of train is (590540, 434); shape of test is (506691, 433)\n"
     ]
    }
   ],
   "source": [
    "print('shape of train is {}; shape of test is {}'.format(train.shape,test.shape))"
   ]
  },
  {
   "cell_type": "markdown",
   "metadata": {},
   "source": [
    "### Output the joined data"
   ]
  },
  {
   "cell_type": "code",
   "execution_count": 10,
   "metadata": {},
   "outputs": [],
   "source": [
    "# train.to_csv('./joined_train.csv')"
   ]
  },
  {
   "cell_type": "code",
   "execution_count": 11,
   "metadata": {},
   "outputs": [],
   "source": [
    "# test.to_csv('./joined_test.csv')"
   ]
  },
  {
   "cell_type": "code",
   "execution_count": null,
   "metadata": {},
   "outputs": [],
   "source": [
    "# test.head()"
   ]
  }
 ],
 "metadata": {
  "kernelspec": {
   "display_name": "Python 3",
   "language": "python",
   "name": "python3"
  },
  "language_info": {
   "codemirror_mode": {
    "name": "ipython",
    "version": 3
   },
   "file_extension": ".py",
   "mimetype": "text/x-python",
   "name": "python",
   "nbconvert_exporter": "python",
   "pygments_lexer": "ipython3",
   "version": "3.7.0"
  }
 },
 "nbformat": 4,
 "nbformat_minor": 2
}
